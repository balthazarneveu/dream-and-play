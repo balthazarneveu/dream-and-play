{
 "cells": [
  {
   "cell_type": "code",
   "execution_count": null,
   "metadata": {},
   "outputs": [],
   "source": [
    "%load_ext autoreload\n",
    "%autoreload 2\n",
    "from dreamnplay.training.dataset import PoseDataset\n",
    "from pathlib import Path\n",
    "from matplotlib import pyplot as plt"
   ]
  },
  {
   "cell_type": "code",
   "execution_count": 62,
   "metadata": {},
   "outputs": [],
   "source": [
    "csv_file = Path(\"__raw_data\") / \"2024-11-23-01-32-18.143.csv\"\n",
    "csv_file = Path(\"__raw_data\") / \"2024-11-23-01-33-29.920.csv\"\n",
    "dataset = PoseDataset(csv_file)\n",
    "\n",
    "from dreamnplay.controller.motion_detection_baseline import process_keypoints_list\n",
    "\n",
    "signal = dataset.data"
   ]
  },
  {
   "cell_type": "code",
   "execution_count": null,
   "metadata": {},
   "outputs": [],
   "source": [
    "dataset.features"
   ]
  },
  {
   "cell_type": "code",
   "execution_count": 65,
   "metadata": {},
   "outputs": [],
   "source": [
    "import numpy as np\n",
    "sig = np.array(signal)\n",
    "sig.shape\n",
    "avg = sig[:, 1::4].mean(axis=-1)"
   ]
  },
  {
   "cell_type": "code",
   "execution_count": null,
   "metadata": {},
   "outputs": [],
   "source": [
    "# plt.plot(avg)\n",
    "derivative = np.diff(avg)\n",
    "plt.plot(derivative)\n",
    "plt.plot(derivative<=-0.03)\n",
    "plt.show()\n"
   ]
  },
  {
   "cell_type": "code",
   "execution_count": null,
   "metadata": {},
   "outputs": [],
   "source": [
    "jump_loc = np.argwhere(derivative<= -0.025)\n",
    "not_jump_loc = np.argwhere(derivative> -0.025).flatten()\n",
    "\n",
    "dataset.labels\n",
    "import pandas as pd\n",
    "df = pd.read_csv(csv_file)\n",
    "# df.iloc[not_jump_loc].action = \"IDLE\"\n",
    "df.loc[not_jump_loc, \"action\"] = \"IDLE\"\n",
    "df.to_csv(Path(\"__data\")/csv_file.name, index=False)\n",
    "df.head()"
   ]
  }
 ],
 "metadata": {
  "kernelspec": {
   "display_name": "gpu",
   "language": "python",
   "name": "python3"
  },
  "language_info": {
   "codemirror_mode": {
    "name": "ipython",
    "version": 3
   },
   "file_extension": ".py",
   "mimetype": "text/x-python",
   "name": "python",
   "nbconvert_exporter": "python",
   "pygments_lexer": "ipython3",
   "version": "3.11.0"
  }
 },
 "nbformat": 4,
 "nbformat_minor": 2
}
